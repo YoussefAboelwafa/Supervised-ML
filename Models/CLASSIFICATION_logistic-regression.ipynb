{
 "cells": [
  {
   "cell_type": "markdown",
   "metadata": {},
   "source": [
    "## Import Dataset\n"
   ]
  },
  {
   "cell_type": "code",
   "execution_count": 10,
   "metadata": {},
   "outputs": [
    {
     "name": "stdout",
     "output_type": "stream",
     "text": [
      "(768, 9)\n"
     ]
    },
    {
     "data": {
      "text/html": [
       "<div>\n",
       "<style scoped>\n",
       "    .dataframe tbody tr th:only-of-type {\n",
       "        vertical-align: middle;\n",
       "    }\n",
       "\n",
       "    .dataframe tbody tr th {\n",
       "        vertical-align: top;\n",
       "    }\n",
       "\n",
       "    .dataframe thead th {\n",
       "        text-align: right;\n",
       "    }\n",
       "</style>\n",
       "<table border=\"1\" class=\"dataframe\">\n",
       "  <thead>\n",
       "    <tr style=\"text-align: right;\">\n",
       "      <th></th>\n",
       "      <th>pregnancies</th>\n",
       "      <th>glucose</th>\n",
       "      <th>diastolic</th>\n",
       "      <th>triceps</th>\n",
       "      <th>insulin</th>\n",
       "      <th>bmi</th>\n",
       "      <th>dpf</th>\n",
       "      <th>age</th>\n",
       "      <th>diabetes</th>\n",
       "    </tr>\n",
       "  </thead>\n",
       "  <tbody>\n",
       "    <tr>\n",
       "      <th>0</th>\n",
       "      <td>6</td>\n",
       "      <td>148</td>\n",
       "      <td>72</td>\n",
       "      <td>35</td>\n",
       "      <td>0</td>\n",
       "      <td>33.6</td>\n",
       "      <td>0.627</td>\n",
       "      <td>50</td>\n",
       "      <td>1</td>\n",
       "    </tr>\n",
       "    <tr>\n",
       "      <th>1</th>\n",
       "      <td>1</td>\n",
       "      <td>85</td>\n",
       "      <td>66</td>\n",
       "      <td>29</td>\n",
       "      <td>0</td>\n",
       "      <td>26.6</td>\n",
       "      <td>0.351</td>\n",
       "      <td>31</td>\n",
       "      <td>0</td>\n",
       "    </tr>\n",
       "    <tr>\n",
       "      <th>2</th>\n",
       "      <td>8</td>\n",
       "      <td>183</td>\n",
       "      <td>64</td>\n",
       "      <td>0</td>\n",
       "      <td>0</td>\n",
       "      <td>23.3</td>\n",
       "      <td>0.672</td>\n",
       "      <td>32</td>\n",
       "      <td>1</td>\n",
       "    </tr>\n",
       "    <tr>\n",
       "      <th>3</th>\n",
       "      <td>1</td>\n",
       "      <td>89</td>\n",
       "      <td>66</td>\n",
       "      <td>23</td>\n",
       "      <td>94</td>\n",
       "      <td>28.1</td>\n",
       "      <td>0.167</td>\n",
       "      <td>21</td>\n",
       "      <td>0</td>\n",
       "    </tr>\n",
       "    <tr>\n",
       "      <th>4</th>\n",
       "      <td>0</td>\n",
       "      <td>137</td>\n",
       "      <td>40</td>\n",
       "      <td>35</td>\n",
       "      <td>168</td>\n",
       "      <td>43.1</td>\n",
       "      <td>2.288</td>\n",
       "      <td>33</td>\n",
       "      <td>1</td>\n",
       "    </tr>\n",
       "  </tbody>\n",
       "</table>\n",
       "</div>"
      ],
      "text/plain": [
       "   pregnancies  glucose  diastolic  triceps  insulin   bmi    dpf  age  \\\n",
       "0            6      148         72       35        0  33.6  0.627   50   \n",
       "1            1       85         66       29        0  26.6  0.351   31   \n",
       "2            8      183         64        0        0  23.3  0.672   32   \n",
       "3            1       89         66       23       94  28.1  0.167   21   \n",
       "4            0      137         40       35      168  43.1  2.288   33   \n",
       "\n",
       "   diabetes  \n",
       "0         1  \n",
       "1         0  \n",
       "2         1  \n",
       "3         0  \n",
       "4         1  "
      ]
     },
     "execution_count": 10,
     "metadata": {},
     "output_type": "execute_result"
    }
   ],
   "source": [
    "import numpy as np\n",
    "import pandas as pd\n",
    "import matplotlib.pyplot as plt\n",
    "import warnings\n",
    "warnings.filterwarnings(\"ignore\")\n",
    "\n",
    "from sklearn.model_selection import train_test_split\n",
    "from sklearn.linear_model import LogisticRegression\n",
    "\n",
    "diabetes_df = pd.read_csv(\"datasets/diabetes_clean.csv\")\n",
    "print(diabetes_df.shape)\n",
    "diabetes_df.head()"
   ]
  },
  {
   "cell_type": "markdown",
   "id": "f96c1be7",
   "metadata": {},
   "source": [
    "## Train/ Test Split\n"
   ]
  },
  {
   "cell_type": "code",
   "execution_count": 2,
   "metadata": {},
   "outputs": [],
   "source": [
    "X = diabetes_df.drop(\"diabetes\", axis=1).values\n",
    "y = diabetes_df[\"diabetes\"].values\n",
    "\n",
    "X_train, X_test, y_train, y_test = train_test_split(X, y, test_size=0.2)"
   ]
  },
  {
   "cell_type": "markdown",
   "metadata": {},
   "source": [
    "## Fit the model\n"
   ]
  },
  {
   "cell_type": "code",
   "execution_count": 3,
   "metadata": {},
   "outputs": [
    {
     "name": "stderr",
     "output_type": "stream",
     "text": [
      "/home/youssef/.local/lib/python3.10/site-packages/sklearn/linear_model/_logistic.py:460: ConvergenceWarning: lbfgs failed to converge (status=1):\n",
      "STOP: TOTAL NO. of ITERATIONS REACHED LIMIT.\n",
      "\n",
      "Increase the number of iterations (max_iter) or scale the data as shown in:\n",
      "    https://scikit-learn.org/stable/modules/preprocessing.html\n",
      "Please also refer to the documentation for alternative solver options:\n",
      "    https://scikit-learn.org/stable/modules/linear_model.html#logistic-regression\n",
      "  n_iter_i = _check_optimize_result(\n"
     ]
    },
    {
     "data": {
      "text/html": [
       "<style>#sk-container-id-1 {color: black;}#sk-container-id-1 pre{padding: 0;}#sk-container-id-1 div.sk-toggleable {background-color: white;}#sk-container-id-1 label.sk-toggleable__label {cursor: pointer;display: block;width: 100%;margin-bottom: 0;padding: 0.3em;box-sizing: border-box;text-align: center;}#sk-container-id-1 label.sk-toggleable__label-arrow:before {content: \"▸\";float: left;margin-right: 0.25em;color: #696969;}#sk-container-id-1 label.sk-toggleable__label-arrow:hover:before {color: black;}#sk-container-id-1 div.sk-estimator:hover label.sk-toggleable__label-arrow:before {color: black;}#sk-container-id-1 div.sk-toggleable__content {max-height: 0;max-width: 0;overflow: hidden;text-align: left;background-color: #f0f8ff;}#sk-container-id-1 div.sk-toggleable__content pre {margin: 0.2em;color: black;border-radius: 0.25em;background-color: #f0f8ff;}#sk-container-id-1 input.sk-toggleable__control:checked~div.sk-toggleable__content {max-height: 200px;max-width: 100%;overflow: auto;}#sk-container-id-1 input.sk-toggleable__control:checked~label.sk-toggleable__label-arrow:before {content: \"▾\";}#sk-container-id-1 div.sk-estimator input.sk-toggleable__control:checked~label.sk-toggleable__label {background-color: #d4ebff;}#sk-container-id-1 div.sk-label input.sk-toggleable__control:checked~label.sk-toggleable__label {background-color: #d4ebff;}#sk-container-id-1 input.sk-hidden--visually {border: 0;clip: rect(1px 1px 1px 1px);clip: rect(1px, 1px, 1px, 1px);height: 1px;margin: -1px;overflow: hidden;padding: 0;position: absolute;width: 1px;}#sk-container-id-1 div.sk-estimator {font-family: monospace;background-color: #f0f8ff;border: 1px dotted black;border-radius: 0.25em;box-sizing: border-box;margin-bottom: 0.5em;}#sk-container-id-1 div.sk-estimator:hover {background-color: #d4ebff;}#sk-container-id-1 div.sk-parallel-item::after {content: \"\";width: 100%;border-bottom: 1px solid gray;flex-grow: 1;}#sk-container-id-1 div.sk-label:hover label.sk-toggleable__label {background-color: #d4ebff;}#sk-container-id-1 div.sk-serial::before {content: \"\";position: absolute;border-left: 1px solid gray;box-sizing: border-box;top: 0;bottom: 0;left: 50%;z-index: 0;}#sk-container-id-1 div.sk-serial {display: flex;flex-direction: column;align-items: center;background-color: white;padding-right: 0.2em;padding-left: 0.2em;position: relative;}#sk-container-id-1 div.sk-item {position: relative;z-index: 1;}#sk-container-id-1 div.sk-parallel {display: flex;align-items: stretch;justify-content: center;background-color: white;position: relative;}#sk-container-id-1 div.sk-item::before, #sk-container-id-1 div.sk-parallel-item::before {content: \"\";position: absolute;border-left: 1px solid gray;box-sizing: border-box;top: 0;bottom: 0;left: 50%;z-index: -1;}#sk-container-id-1 div.sk-parallel-item {display: flex;flex-direction: column;z-index: 1;position: relative;background-color: white;}#sk-container-id-1 div.sk-parallel-item:first-child::after {align-self: flex-end;width: 50%;}#sk-container-id-1 div.sk-parallel-item:last-child::after {align-self: flex-start;width: 50%;}#sk-container-id-1 div.sk-parallel-item:only-child::after {width: 0;}#sk-container-id-1 div.sk-dashed-wrapped {border: 1px dashed gray;margin: 0 0.4em 0.5em 0.4em;box-sizing: border-box;padding-bottom: 0.4em;background-color: white;}#sk-container-id-1 div.sk-label label {font-family: monospace;font-weight: bold;display: inline-block;line-height: 1.2em;}#sk-container-id-1 div.sk-label-container {text-align: center;}#sk-container-id-1 div.sk-container {/* jupyter's `normalize.less` sets `[hidden] { display: none; }` but bootstrap.min.css set `[hidden] { display: none !important; }` so we also need the `!important` here to be able to override the default hidden behavior on the sphinx rendered scikit-learn.org. See: https://github.com/scikit-learn/scikit-learn/issues/21755 */display: inline-block !important;position: relative;}#sk-container-id-1 div.sk-text-repr-fallback {display: none;}</style><div id=\"sk-container-id-1\" class=\"sk-top-container\"><div class=\"sk-text-repr-fallback\"><pre>LogisticRegression()</pre><b>In a Jupyter environment, please rerun this cell to show the HTML representation or trust the notebook. <br />On GitHub, the HTML representation is unable to render, please try loading this page with nbviewer.org.</b></div><div class=\"sk-container\" hidden><div class=\"sk-item\"><div class=\"sk-estimator sk-toggleable\"><input class=\"sk-toggleable__control sk-hidden--visually\" id=\"sk-estimator-id-1\" type=\"checkbox\" checked><label for=\"sk-estimator-id-1\" class=\"sk-toggleable__label sk-toggleable__label-arrow\">LogisticRegression</label><div class=\"sk-toggleable__content\"><pre>LogisticRegression()</pre></div></div></div></div></div>"
      ],
      "text/plain": [
       "LogisticRegression()"
      ]
     },
     "execution_count": 3,
     "metadata": {},
     "output_type": "execute_result"
    }
   ],
   "source": [
    "logreg = LogisticRegression()\n",
    "logreg.fit(X_train, y_train)"
   ]
  },
  {
   "cell_type": "markdown",
   "id": "8eac3a1c",
   "metadata": {},
   "source": [
    "## Predict the Positive Probilities passing test features\n"
   ]
  },
  {
   "cell_type": "code",
   "execution_count": 4,
   "id": "b74f68cb",
   "metadata": {},
   "outputs": [
    {
     "name": "stdout",
     "output_type": "stream",
     "text": [
      "[0.06785722 0.78997463 0.76346209 0.3386966  0.70810765 0.04240082\n",
      " 0.35969108 0.44200007 0.20243132 0.78627064 0.12969435 0.5246359\n",
      " 0.04596105 0.09929712 0.07168876 0.11412325 0.07196556 0.04775242\n",
      " 0.1715817  0.08868728 0.38033983 0.44697687 0.03373649 0.57446936\n",
      " 0.20477619 0.73834881 0.26268653 0.99675555 0.04889211 0.17677208\n",
      " 0.63890494 0.37773802 0.66682748 0.05007315 0.13488808 0.89145805\n",
      " 0.42272947 0.49049261 0.54288303 0.41985406 0.27812781 0.15112077\n",
      " 0.08283239 0.26743785 0.07056428 0.09579795 0.49014056 0.71722409\n",
      " 0.10760728 0.01798713 0.04462195 0.87816258 0.55330311 0.36377786\n",
      " 0.14142024 0.02215029 0.19476535 0.32690057 0.49130228 0.67320915\n",
      " 0.80491384 0.67524197 0.02239562 0.14928498 0.43528442 0.05941323\n",
      " 0.09514471 0.19259493 0.24965042 0.61451709 0.44316745 0.93058815\n",
      " 0.68098827 0.14511453 0.12983706 0.45935202 0.15125627 0.87400466\n",
      " 0.19096259 0.50918607 0.29838533 0.47440992 0.6959882  0.86144599\n",
      " 0.52383335 0.51719408 0.87250985 0.47012148 0.39869696 0.39295837\n",
      " 0.09636103 0.6804749  0.66564619 0.3595456  0.09239493 0.26732732\n",
      " 0.05385939 0.44864962 0.03338345 0.36633151 0.34113307 0.02224258\n",
      " 0.67836531 0.35322667 0.35880064 0.37035059 0.43160917 0.77446192\n",
      " 0.09603971 0.0822225  0.11274237 0.52549001 0.41059895 0.36476289\n",
      " 0.05517173 0.49681141 0.45517574 0.16485132 0.42859906 0.89470444\n",
      " 0.33159698 0.04473688 0.17066431 0.28912958 0.20290347 0.00685557\n",
      " 0.69183293 0.04082553 0.38259459 0.08575881 0.3470896  0.03357891\n",
      " 0.39583648 0.58730003 0.17794942 0.5891757  0.06730045 0.7792292\n",
      " 0.1925516  0.96282641 0.06030459 0.53146201 0.18053186 0.13962629\n",
      " 0.13238857 0.09392638 0.17134193 0.62931632 0.29503829 0.4804388\n",
      " 0.43310789 0.08539189 0.12751722 0.02424107]\n"
     ]
    }
   ],
   "source": [
    "y_pred_prob = logreg.predict_proba(X_test)[:, 1]\n",
    "print(y_pred_prob)"
   ]
  },
  {
   "cell_type": "markdown",
   "metadata": {},
   "source": [
    "## Make Predictions\n",
    "\n",
    "You can see the predictions made by this model by calling the `predict` function.\n"
   ]
  },
  {
   "cell_type": "code",
   "execution_count": 5,
   "metadata": {},
   "outputs": [
    {
     "name": "stdout",
     "output_type": "stream",
     "text": [
      "[0 1 1 0 1 0 0 0 0 1 0 1 0 0 0 0 0 0 0 0 0 0 0 1 0 1 0 1 0 0 1 0 1 0 0 1 0\n",
      " 0 1 0 0 0 0 0 0 0 0 1 0 0 0 1 1 0 0 0 0 0 0 1 1 1 0 0 0 0 0 0 0 1 0 1 1 0\n",
      " 0 0 0 1 0 1 0 0 1 1 1 1 1 0 0 0 0 1 1 0 0 0 0 0 0 0 0 0 1 0 0 0 0 1 0 0 0\n",
      " 1 0 0 0 0 0 0 0 1 0 0 0 0 0 0 1 0 0 0 0 0 0 1 0 1 0 1 0 1 0 1 0 0 0 0 0 1\n",
      " 0 0 0 0 0 0]\n",
      "[[0.06785722 0.        ]\n",
      " [0.78997463 1.        ]\n",
      " [0.76346209 1.        ]\n",
      " [0.3386966  0.        ]\n",
      " [0.70810765 1.        ]\n",
      " [0.04240082 0.        ]\n",
      " [0.35969108 0.        ]\n",
      " [0.44200007 0.        ]\n",
      " [0.20243132 0.        ]\n",
      " [0.78627064 1.        ]\n",
      " [0.12969435 0.        ]\n",
      " [0.5246359  1.        ]\n",
      " [0.04596105 0.        ]\n",
      " [0.09929712 0.        ]\n",
      " [0.07168876 0.        ]\n",
      " [0.11412325 0.        ]\n",
      " [0.07196556 0.        ]\n",
      " [0.04775242 0.        ]\n",
      " [0.1715817  0.        ]\n",
      " [0.08868728 0.        ]\n",
      " [0.38033983 0.        ]\n",
      " [0.44697687 0.        ]\n",
      " [0.03373649 0.        ]\n",
      " [0.57446936 1.        ]\n",
      " [0.20477619 0.        ]\n",
      " [0.73834881 1.        ]\n",
      " [0.26268653 0.        ]\n",
      " [0.99675555 1.        ]\n",
      " [0.04889211 0.        ]\n",
      " [0.17677208 0.        ]\n",
      " [0.63890494 1.        ]\n",
      " [0.37773802 0.        ]\n",
      " [0.66682748 1.        ]\n",
      " [0.05007315 0.        ]\n",
      " [0.13488808 0.        ]\n",
      " [0.89145805 1.        ]\n",
      " [0.42272947 0.        ]\n",
      " [0.49049261 0.        ]\n",
      " [0.54288303 1.        ]\n",
      " [0.41985406 0.        ]\n",
      " [0.27812781 0.        ]\n",
      " [0.15112077 0.        ]\n",
      " [0.08283239 0.        ]\n",
      " [0.26743785 0.        ]\n",
      " [0.07056428 0.        ]\n",
      " [0.09579795 0.        ]\n",
      " [0.49014056 0.        ]\n",
      " [0.71722409 1.        ]\n",
      " [0.10760728 0.        ]\n",
      " [0.01798713 0.        ]\n",
      " [0.04462195 0.        ]\n",
      " [0.87816258 1.        ]\n",
      " [0.55330311 1.        ]\n",
      " [0.36377786 0.        ]\n",
      " [0.14142024 0.        ]\n",
      " [0.02215029 0.        ]\n",
      " [0.19476535 0.        ]\n",
      " [0.32690057 0.        ]\n",
      " [0.49130228 0.        ]\n",
      " [0.67320915 1.        ]\n",
      " [0.80491384 1.        ]\n",
      " [0.67524197 1.        ]\n",
      " [0.02239562 0.        ]\n",
      " [0.14928498 0.        ]\n",
      " [0.43528442 0.        ]\n",
      " [0.05941323 0.        ]\n",
      " [0.09514471 0.        ]\n",
      " [0.19259493 0.        ]\n",
      " [0.24965042 0.        ]\n",
      " [0.61451709 1.        ]\n",
      " [0.44316745 0.        ]\n",
      " [0.93058815 1.        ]\n",
      " [0.68098827 1.        ]\n",
      " [0.14511453 0.        ]\n",
      " [0.12983706 0.        ]\n",
      " [0.45935202 0.        ]\n",
      " [0.15125627 0.        ]\n",
      " [0.87400466 1.        ]\n",
      " [0.19096259 0.        ]\n",
      " [0.50918607 1.        ]\n",
      " [0.29838533 0.        ]\n",
      " [0.47440992 0.        ]\n",
      " [0.6959882  1.        ]\n",
      " [0.86144599 1.        ]\n",
      " [0.52383335 1.        ]\n",
      " [0.51719408 1.        ]\n",
      " [0.87250985 1.        ]\n",
      " [0.47012148 0.        ]\n",
      " [0.39869696 0.        ]\n",
      " [0.39295837 0.        ]\n",
      " [0.09636103 0.        ]\n",
      " [0.6804749  1.        ]\n",
      " [0.66564619 1.        ]\n",
      " [0.3595456  0.        ]\n",
      " [0.09239493 0.        ]\n",
      " [0.26732732 0.        ]\n",
      " [0.05385939 0.        ]\n",
      " [0.44864962 0.        ]\n",
      " [0.03338345 0.        ]\n",
      " [0.36633151 0.        ]\n",
      " [0.34113307 0.        ]\n",
      " [0.02224258 0.        ]\n",
      " [0.67836531 1.        ]\n",
      " [0.35322667 0.        ]\n",
      " [0.35880064 0.        ]\n",
      " [0.37035059 0.        ]\n",
      " [0.43160917 0.        ]\n",
      " [0.77446192 1.        ]\n",
      " [0.09603971 0.        ]\n",
      " [0.0822225  0.        ]\n",
      " [0.11274237 0.        ]\n",
      " [0.52549001 1.        ]\n",
      " [0.41059895 0.        ]\n",
      " [0.36476289 0.        ]\n",
      " [0.05517173 0.        ]\n",
      " [0.49681141 0.        ]\n",
      " [0.45517574 0.        ]\n",
      " [0.16485132 0.        ]\n",
      " [0.42859906 0.        ]\n",
      " [0.89470444 1.        ]\n",
      " [0.33159698 0.        ]\n",
      " [0.04473688 0.        ]\n",
      " [0.17066431 0.        ]\n",
      " [0.28912958 0.        ]\n",
      " [0.20290347 0.        ]\n",
      " [0.00685557 0.        ]\n",
      " [0.69183293 1.        ]\n",
      " [0.04082553 0.        ]\n",
      " [0.38259459 0.        ]\n",
      " [0.08575881 0.        ]\n",
      " [0.3470896  0.        ]\n",
      " [0.03357891 0.        ]\n",
      " [0.39583648 0.        ]\n",
      " [0.58730003 1.        ]\n",
      " [0.17794942 0.        ]\n",
      " [0.5891757  1.        ]\n",
      " [0.06730045 0.        ]\n",
      " [0.7792292  1.        ]\n",
      " [0.1925516  0.        ]\n",
      " [0.96282641 1.        ]\n",
      " [0.06030459 0.        ]\n",
      " [0.53146201 1.        ]\n",
      " [0.18053186 0.        ]\n",
      " [0.13962629 0.        ]\n",
      " [0.13238857 0.        ]\n",
      " [0.09392638 0.        ]\n",
      " [0.17134193 0.        ]\n",
      " [0.62931632 1.        ]\n",
      " [0.29503829 0.        ]\n",
      " [0.4804388  0.        ]\n",
      " [0.43310789 0.        ]\n",
      " [0.08539189 0.        ]\n",
      " [0.12751722 0.        ]\n",
      " [0.02424107 0.        ]]\n"
     ]
    }
   ],
   "source": [
    "y_pred = logreg.predict(X_test)\n",
    "print(y_pred)\n",
    "\n",
    "combined = np.column_stack((y_pred_prob, y_pred))\n",
    "print(combined)"
   ]
  },
  {
   "cell_type": "markdown",
   "metadata": {},
   "source": [
    "## Calculate accuracy\n",
    "\n",
    "You can calculate this accuracy of this model by calling the `score` function.\n"
   ]
  },
  {
   "cell_type": "code",
   "execution_count": 6,
   "metadata": {},
   "outputs": [
    {
     "name": "stdout",
     "output_type": "stream",
     "text": [
      "Accuracy on training set: 0.7922077922077922\n"
     ]
    }
   ],
   "source": [
    "print(\"Accuracy on training set:\", logreg.score(X_test, y_test))"
   ]
  },
  {
   "cell_type": "markdown",
   "id": "ff14c0eb",
   "metadata": {},
   "source": [
    "## ROC (receiver operating characteristic)"
   ]
  },
  {
   "cell_type": "code",
   "execution_count": 7,
   "id": "16b8fb22",
   "metadata": {},
   "outputs": [
    {
     "data": {
      "image/png": "[encoded data removed]",
      "text/plain": [
       "<Figure size 640x480 with 1 Axes>"
      ]
     },
     "metadata": {},
     "output_type": "display_data"
    }
   ],
   "source": [
    "# Import roc_curve\n",
    "from sklearn.metrics import roc_curve\n",
    "\n",
    "# Generate ROC curve values: fpr, tpr, thresholds\n",
    "fpr, tpr, thresholds = roc_curve(y_test, y_pred_prob)\n",
    "\n",
    "plt.plot([0, 1], [0, 1], 'k--')\n",
    "\n",
    "# Plot tpr against fpr\n",
    "plt.plot(fpr, tpr)\n",
    "plt.xlabel('False Positive Rate')\n",
    "plt.ylabel('True Positive Rate')\n",
    "plt.title('ROC Curve for Diabetes Prediction')\n",
    "plt.show()"
   ]
  },
  {
   "cell_type": "markdown",
   "id": "be25b627",
   "metadata": {},
   "source": [
    "## AUC (area under the curve)"
   ]
  },
  {
   "cell_type": "code",
   "execution_count": 8,
   "id": "adaecff8",
   "metadata": {},
   "outputs": [
    {
     "name": "stdout",
     "output_type": "stream",
     "text": [
      "0.8297376093294461\n",
      "[[93 12]\n",
      " [20 29]]\n",
      "              precision    recall  f1-score   support\n",
      "\n",
      "           0       0.82      0.89      0.85       105\n",
      "           1       0.71      0.59      0.64        49\n",
      "\n",
      "    accuracy                           0.79       154\n",
      "   macro avg       0.77      0.74      0.75       154\n",
      "weighted avg       0.79      0.79      0.79       154\n",
      "\n"
     ]
    }
   ],
   "source": [
    "# Import roc_auc_score\n",
    "from sklearn.metrics import roc_auc_score, confusion_matrix, classification_report\n",
    "\n",
    "# Calculate roc_auc_score\n",
    "print(roc_auc_score(y_test, y_pred_prob))\n",
    "\n",
    "# Calculate the confusion matrix\n",
    "print(confusion_matrix(y_test, y_pred))\n",
    "\n",
    "# Calculate the classification report\n",
    "print(classification_report(y_test, y_pred))"
   ]
  },
  {
   "cell_type": "markdown",
   "id": "8a4ffa1d",
   "metadata": {},
   "source": [
    "## Regularization\n",
    "- Make predictions less sensitive to training data\n",
    "- **Smaller values of C lead to less confident predictions. That's because smaller C means more regularization, which in turn means smaller coefficients, which means raw model outputs closer to zero and, thus, probabilities closer to 0.5 after the raw model output is squashed through the sigmoid function** <br>\n",
    "`model = LogisticRegression(C=0.1)` <br>\n",
    "`model = LogisticRegression(C=100)`\n",
    "#### Hyperparameters affecting Regularization are `penalty` & `C` \n",
    "- `penalty` is the type of regularization `l1` or `l2` <br>\n",
    "`l1` => Lasso <br>\n",
    "`l2` => Ridge <br>\n",
    "- `C` is the inverse Regularization strenght"
   ]
  },
  {
   "cell_type": "markdown",
   "id": "b079da1c",
   "metadata": {},
   "source": [
    "## Multiclass Logistic Regression "
   ]
  },
  {
   "cell_type": "code",
   "execution_count": 11,
   "id": "eaa21897",
   "metadata": {},
   "outputs": [
    {
     "name": "stdout",
     "output_type": "stream",
     "text": [
      "OVR training accuracy: 0.7719869706840391\n",
      "OVR test accuracy    : 0.7922077922077922\n",
      "Softmax training accuracy: 0.7736156351791531\n",
      "Softmax test accuracy    : 0.7857142857142857\n"
     ]
    }
   ],
   "source": [
    "# Fit one-vs-rest logistic regression classifier\n",
    "lr_ovr = LogisticRegression(multi_class=\"ovr\")\n",
    "lr_ovr.fit(X_train, y_train)\n",
    "\n",
    "print(\"OVR training accuracy:\", lr_ovr.score(X_train, y_train))\n",
    "print(\"OVR test accuracy    :\", lr_ovr.score(X_test, y_test))\n",
    "\n",
    "# Fit softmax classifier\n",
    "lr_mn = LogisticRegression(multi_class=\"multinomial\")\n",
    "lr_mn.fit(X_train, y_train)\n",
    "\n",
    "print(\"Softmax training accuracy:\", lr_mn.score(X_train, y_train))\n",
    "print(\"Softmax test accuracy    :\", lr_mn.score(X_test, y_test))"
   ]
  }
 ],
 "metadata": {
  "kernelspec": {
   "display_name": "Python 3",
   "language": "python",
   "name": "python3"
  },
  "language_info": {
   "codemirror_mode": {
    "name": "ipython",
    "version": 3
   },
   "file_extension": ".py",
   "mimetype": "text/x-python",
   "name": "python",
   "nbconvert_exporter": "python",
   "pygments_lexer": "ipython3",
   "version": "3.10.12"
  }
 },
 "nbformat": 4,
 "nbformat_minor": 5
}
