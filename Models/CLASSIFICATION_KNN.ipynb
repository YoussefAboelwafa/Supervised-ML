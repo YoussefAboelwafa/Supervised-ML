{
 "cells": [
  {
   "cell_type": "markdown",
   "id": "c73b4adcbbe065a",
   "metadata": {
    "collapsed": false
   },
   "source": [
    "# Import Libraries & Datasets\n"
   ]
  },
  {
   "cell_type": "code",
   "execution_count": 7,
   "id": "d62680f31d7d82a1",
   "metadata": {
    "ExecuteTime": {
     "end_time": "2023-09-14T20:38:29.416279500Z",
     "start_time": "2023-09-14T20:38:21.756700600Z"
    },
    "collapsed": false
   },
   "outputs": [
    {
     "name": "stdout",
     "output_type": "stream",
     "text": [
      "   Unnamed: 0  account_length  area_code  international_plan  voice_mail_plan  \\\n",
      "0           0             128        415                   0                1   \n",
      "1           1             107        415                   0                1   \n",
      "2           2             137        415                   0                0   \n",
      "3           3              84        408                   1                0   \n",
      "4           4              75        415                   1                0   \n",
      "\n",
      "   number_vmail_messages  total_day_minutes  total_day_calls  \\\n",
      "0                     25              265.1              110   \n",
      "1                     26              161.6              123   \n",
      "2                      0              243.4              114   \n",
      "3                      0              299.4               71   \n",
      "4                      0              166.7              113   \n",
      "\n",
      "   total_day_charge  total_eve_minutes  total_eve_calls  total_eve_charge  \\\n",
      "0             45.07              197.4               99             16.78   \n",
      "1             27.47              195.5              103             16.62   \n",
      "2             41.38              121.2              110             10.30   \n",
      "3             50.90               61.9               88              5.26   \n",
      "4             28.34              148.3              122             12.61   \n",
      "\n",
      "   total_night_minutes  total_night_calls  total_night_charge  \\\n",
      "0                244.7                 91               11.01   \n",
      "1                254.4                103               11.45   \n",
      "2                162.6                104                7.32   \n",
      "3                196.9                 89                8.86   \n",
      "4                186.9                121                8.41   \n",
      "\n",
      "   total_intl_minutes  total_intl_calls  total_intl_charge  \\\n",
      "0                10.0                 3               2.70   \n",
      "1                13.7                 3               3.70   \n",
      "2                12.2                 5               3.29   \n",
      "3                 6.6                 7               1.78   \n",
      "4                10.1                 3               2.73   \n",
      "\n",
      "   customer_service_calls  churn  \n",
      "0                       1      0  \n",
      "1                       1      0  \n",
      "2                       0      0  \n",
      "3                       2      0  \n",
      "4                       3      0  \n"
     ]
    }
   ],
   "source": [
    "import pandas as pd\n",
    "import numpy as np\n",
    "import matplotlib.pyplot as plt\n",
    "\n",
    "from sklearn.model_selection import train_test_split\n",
    "from sklearn.neighbors import KNeighborsClassifier\n",
    "\n",
    "churn_df = pd.read_csv(\"datasets/telecom_churn_clean.csv\")\n",
    "print(churn_df.head())"
   ]
  },
  {
   "cell_type": "code",
   "execution_count": 8,
   "id": "c0b23cef8ee2eb1c",
   "metadata": {
    "ExecuteTime": {
     "end_time": "2023-09-14T20:38:29.523083500Z",
     "start_time": "2023-09-14T20:38:29.418273200Z"
    },
    "collapsed": false
   },
   "outputs": [
    {
     "name": "stdout",
     "output_type": "stream",
     "text": [
      "Prediction: [0 1 0]\n"
     ]
    }
   ],
   "source": [
    "# Create arrays for the features and the target variable\n",
    "y = churn_df[\"churn\"].values\n",
    "X = churn_df[[\"account_length\", \"customer_service_calls\"]].values\n",
    "\n",
    "# Create a KNN classifier with 6 neighbors\n",
    "knn = KNeighborsClassifier(n_neighbors=6)\n",
    "\n",
    "# Fit the classifier to the data\n",
    "knn.fit(X, y)\n",
    "\n",
    "X_new = np.array([[30.0, 17.5], [107.0, 24.1], [213.0, 10.9]])\n",
    "\n",
    "# Predict the labels for the training data X\n",
    "y_pred = knn.predict(X_new)\n",
    "print(f\"Prediction: {y_pred}\")"
   ]
  },
  {
   "cell_type": "markdown",
   "id": "ab047f374ad093f8",
   "metadata": {
    "collapsed": false
   },
   "source": [
    "# Train/Test split\n"
   ]
  },
  {
   "cell_type": "code",
   "execution_count": 9,
   "id": "7aa05b27f031cbd",
   "metadata": {
    "ExecuteTime": {
     "end_time": "2023-09-14T20:38:29.684585600Z",
     "start_time": "2023-09-14T20:38:29.451240400Z"
    },
    "collapsed": false
   },
   "outputs": [
    {
     "name": "stdout",
     "output_type": "stream",
     "text": [
      "0.8380809595202399\n"
     ]
    }
   ],
   "source": [
    "X = churn_df.drop(\"churn\", axis=1).values\n",
    "y = churn_df[\"churn\"].values\n",
    "\n",
    "# Split into training and test sets\n",
    "# Stratification is important for classification problems\n",
    "\n",
    "X_train, X_test, y_train, y_test = train_test_split(X, y, test_size=0.2, stratify=y)\n",
    "\n",
    "knn = KNeighborsClassifier(n_neighbors=5)\n",
    "\n",
    "# Fit the classifier to the training data\n",
    "knn.fit(X_train, y_train)\n",
    "\n",
    "# Print the accuracy\n",
    "print(knn.score(X_test, y_test))"
   ]
  },
  {
   "cell_type": "markdown",
   "id": "6b9c89a819653256",
   "metadata": {
    "collapsed": false
   },
   "source": [
    "# Overfitting & Underfitting\n"
   ]
  },
  {
   "cell_type": "code",
   "execution_count": 10,
   "id": "a64651a6afcba12",
   "metadata": {
    "ExecuteTime": {
     "end_time": "2023-09-14T20:39:23.293533800Z",
     "start_time": "2023-09-14T20:39:22.851322900Z"
    },
    "collapsed": false
   },
   "outputs": [
    {
     "name": "stdout",
     "output_type": "stream",
     "text": [
      "Best k = 2\n"
     ]
    }
   ],
   "source": [
    "# Create neighbors\n",
    "neighbors = np.arange(1, 13)\n",
    "train_accuracies = {}\n",
    "test_accuracies = {}\n",
    "\n",
    "maximum_accuracy = 0\n",
    "best_k = 0\n",
    "\n",
    "for neighbor in neighbors:\n",
    "    # Set up a KNN Classifier\n",
    "    knn = KNeighborsClassifier(n_neighbors=neighbor)\n",
    "\n",
    "    # Fit the model\n",
    "    knn.fit(X_train, y_train)\n",
    "\n",
    "    # Compute accuracy\n",
    "    train_accuracies[neighbor] = knn.score(X_train, y_train)\n",
    "    test_accuracies[neighbor] = knn.score(X_test, y_test)\n",
    "\n",
    "    if test_accuracies[neighbor] > maximum_accuracy:\n",
    "        maximum_accuracy = test_accuracies[neighbor]\n",
    "        best_k = neighbor\n",
    "\n",
    "print(f\"Best k = {best_k}\")"
   ]
  },
  {
   "cell_type": "markdown",
   "id": "cd4817a16dafcf05",
   "metadata": {
    "collapsed": false
   },
   "source": [
    "# Visualizing model complexity\n"
   ]
  },
  {
   "cell_type": "code",
   "execution_count": 11,
   "id": "d83aacf51800a874",
   "metadata": {
    "ExecuteTime": {
     "end_time": "2023-09-14T20:38:30.440378Z",
     "start_time": "2023-09-14T20:38:30.129110700Z"
    },
    "collapsed": false
   },
   "outputs": [
    {
     "data": {
      "image/png": "[encoded data removed]",
      "text/plain": [
       "<Figure size 640x480 with 1 Axes>"
      ]
     },
     "metadata": {},
     "output_type": "display_data"
    }
   ],
   "source": [
    "# Add a title\n",
    "plt.title(\"KNN: Varying Number of Neighbors\")\n",
    "\n",
    "# Plot training accuracies\n",
    "plt.plot(neighbors, train_accuracies.values(), label=\"Training Accuracy\")\n",
    "\n",
    "# Plot test accuracies\n",
    "plt.plot(neighbors, test_accuracies.values(), label=\"Testing Accuracy\")\n",
    "\n",
    "plt.legend()\n",
    "plt.xlabel(\"Number of Neighbors\")\n",
    "plt.ylabel(\"Accuracy\")\n",
    "plt.axvline(x=best_k, color=\"green\", linestyle=\"--\")\n",
    "plt.xticks(neighbors)\n",
    "\n",
    "# Display the plot\n",
    "plt.show()"
   ]
  },
  {
   "cell_type": "markdown",
   "id": "69c7850d",
   "metadata": {},
   "source": [
    "## Performance Evaluation using `Confusion Matrix`\n"
   ]
  },
  {
   "cell_type": "code",
   "execution_count": 12,
   "id": "f8e648d0",
   "metadata": {
    "ExecuteTime": {
     "end_time": "2023-09-14T20:38:30.582031300Z",
     "start_time": "2023-09-14T20:38:30.436388700Z"
    }
   },
   "outputs": [
    {
     "name": "stdout",
     "output_type": "stream",
     "text": [
      "[[568   2]\n",
      " [ 96   1]]\n",
      "              precision    recall  f1-score   support\n",
      "\n",
      "           0       0.86      1.00      0.92       570\n",
      "           1       0.33      0.01      0.02        97\n",
      "\n",
      "    accuracy                           0.85       667\n",
      "   macro avg       0.59      0.50      0.47       667\n",
      "weighted avg       0.78      0.85      0.79       667\n",
      "\n"
     ]
    }
   ],
   "source": [
    "# Import confusion matrix\n",
    "from sklearn.metrics import confusion_matrix, classification_report\n",
    "\n",
    "knn = KNeighborsClassifier(n_neighbors=6)\n",
    "\n",
    "# Fit the model to the training data\n",
    "knn.fit(X_train, y_train)\n",
    "\n",
    "# Predict the labels of the test data: y_pred\n",
    "y_pred = knn.predict(X_test)\n",
    "\n",
    "# Generate the confusion matrix and classification report\n",
    "print(confusion_matrix(y_test, y_pred))\n",
    "print(classification_report(y_test, y_pred))"
   ]
  }
 ],
 "metadata": {
  "kernelspec": {
   "display_name": "Python 3",
   "language": "python",
   "name": "python3"
  },
  "language_info": {
   "codemirror_mode": {
    "name": "ipython",
    "version": 3
   },
   "file_extension": ".py",
   "mimetype": "text/x-python",
   "name": "python",
   "nbconvert_exporter": "python",
   "pygments_lexer": "ipython3",
   "version": "3.10.12"
  }
 },
 "nbformat": 4,
 "nbformat_minor": 5
}
