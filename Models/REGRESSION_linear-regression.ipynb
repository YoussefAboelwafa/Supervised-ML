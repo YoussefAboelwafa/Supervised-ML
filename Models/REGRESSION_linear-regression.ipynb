{
 "cells": [
  {
   "cell_type": "markdown",
   "id": "5096685768264eec",
   "metadata": {
    "collapsed": false
   },
   "source": [
    "# Import Libraries & Datasets\n"
   ]
  },
  {
   "cell_type": "code",
   "execution_count": null,
   "id": "initial_id",
   "metadata": {
    "collapsed": true,
    "jupyter": {
     "outputs_hidden": true
    }
   },
   "outputs": [],
   "source": [
    "import pandas as pd\n",
    "import numpy as np\n",
    "import matplotlib.pyplot as plt\n",
    "\n",
    "from sklearn.model_selection import train_test_split\n",
    "from sklearn.linear_model import LinearRegression\n",
    "\n",
    "sales_df = pd.read_csv(\"datasets/advertising_and_sales_clean.csv\")\n",
    "print(sales_df.head())"
   ]
  },
  {
   "cell_type": "markdown",
   "id": "523f08b4808cef25",
   "metadata": {
    "collapsed": false
   },
   "source": [
    "## Create X and y for 1 Feature\n",
    "\n",
    "### Notes:\n",
    "\n",
    "### y should be a 1D array\n",
    "\n",
    "### X should be a 2D array\n"
   ]
  },
  {
   "cell_type": "code",
   "execution_count": null,
   "id": "2f3b9c7a8035f0f8",
   "metadata": {
    "collapsed": false
   },
   "outputs": [],
   "source": [
    "# Create X from the radio column's values\n",
    "X = sales_df[\"radio\"].values\n",
    "\n",
    "# Create y from the sales column's values\n",
    "y = sales_df[\"sales\"].values\n",
    "\n",
    "# Reshape X\n",
    "X = X.reshape(-1, 1)\n",
    "\n",
    "# Check the shape of the features and targets\n",
    "print(X.shape)\n",
    "print(y.shape)\n",
    "\n",
    "# Create the model\n",
    "reg = LinearRegression()\n",
    "\n",
    "# Fit the model to the data\n",
    "reg.fit(X, y)\n",
    "\n",
    "# Make predictions\n",
    "predictions = reg.predict(X)\n",
    "\n",
    "print(predictions[:5])"
   ]
  },
  {
   "cell_type": "markdown",
   "id": "fdde1c1a2f87ae",
   "metadata": {
    "collapsed": false
   },
   "source": [
    "# Plotting the Data\n"
   ]
  },
  {
   "cell_type": "code",
   "execution_count": null,
   "id": "29fa250abbcb9448",
   "metadata": {
    "collapsed": false
   },
   "outputs": [],
   "source": [
    "# Create scatter plot\n",
    "plt.scatter(X, y, color=\"blue\")\n",
    "\n",
    "# Create line plot\n",
    "plt.plot(X, predictions, color=\"red\")\n",
    "plt.xlabel(\"Radio Expenditure ($)\")\n",
    "plt.ylabel(\"Sales ($)\")\n",
    "\n",
    "# Display the plot\n",
    "plt.show()"
   ]
  },
  {
   "cell_type": "markdown",
   "id": "f6745bbfe55d69cf",
   "metadata": {
    "collapsed": false
   },
   "source": [
    "# Create X and y for all Features\n"
   ]
  },
  {
   "cell_type": "code",
   "execution_count": null,
   "id": "8d7a9468fdeb86ae",
   "metadata": {
    "collapsed": false
   },
   "outputs": [],
   "source": [
    "# Create X and y arrays\n",
    "X = sales_df.drop([\"sales\", \"influencer\"], axis=1).values\n",
    "y = sales_df[\"sales\"].values\n",
    "\n",
    "X_train, X_test, y_train, y_test = train_test_split(X, y, test_size=0.3, random_state=5)\n",
    "\n",
    "# Instantiate the model\n",
    "reg = LinearRegression()\n",
    "\n",
    "# Fit the model to the data\n",
    "reg.fit(X_train, y_train)\n",
    "\n",
    "# Make predictions\n",
    "y_pred = reg.predict(X_test)\n",
    "print(\"Predictions: {}\".format(y_pred[:2]))\n",
    "print(\"Actual Values: {}\".format(y_test[:2]))"
   ]
  },
  {
   "cell_type": "markdown",
   "id": "e9f0515219db9fc5",
   "metadata": {
    "collapsed": false
   },
   "source": [
    "# Evaluating the Model\n"
   ]
  },
  {
   "cell_type": "code",
   "execution_count": null,
   "id": "371a16e1b08cb6e",
   "metadata": {
    "collapsed": false
   },
   "outputs": [],
   "source": [
    "from sklearn.metrics import mean_squared_error\n",
    "\n",
    "# Compute R-squared\n",
    "r_squared = reg.score(X_test, y_test)\n",
    "\n",
    "# Compute RMSE\n",
    "rmse = mean_squared_error(y_test, y_pred, squared=False)\n",
    "\n",
    "# Print the metrics\n",
    "print(\"R^2: {}\".format(r_squared))\n",
    "print(\"RMSE: {}\".format(rmse))"
   ]
  },
  {
   "cell_type": "markdown",
   "id": "4f292cc86a6b02e4",
   "metadata": {
    "collapsed": false
   },
   "source": [
    "# Regularization\n",
    "\n",
    "- Make predictions less sensitive to training data"
   ]
  },
  {
   "cell_type": "markdown",
   "id": "f7b1d409b5e7dc7a",
   "metadata": {
    "collapsed": false
   },
   "source": [
    "### Ridge Regression\n",
    "\n",
    "- Ridge regression can improve predictions made from new data by penalizing large coefficients & make the predictions less sensitive to the training data (Reduce variance of the model and increase bias in the same time) or (Reduce overfitting)\n",
    "- alpha is a hyperparameter that controls the model complexity (0 to infinity)\n",
    "- alpha = 0 is equivalent to linear regression\n",
    "- alpha = infinity is equivalent to a constant prediction & can lead to underfitting\n"
   ]
  },
  {
   "cell_type": "code",
   "execution_count": null,
   "id": "cc89f9488f0bf4a",
   "metadata": {
    "collapsed": false
   },
   "outputs": [],
   "source": [
    "# Import Ridge\n",
    "from sklearn.linear_model import Ridge\n",
    "\n",
    "alphas = [0.001, 0.1, 1.0, 10.0, 100.0, 1000.0, 10000.0]\n",
    "ridge_scores = []\n",
    "for a in alphas:\n",
    "    # Create a Ridge regression model\n",
    "    ridge = Ridge(alpha=a)\n",
    "\n",
    "    # Fit the data\n",
    "    ridge.fit(X_train, y_train)\n",
    "\n",
    "    # Obtain R-squared\n",
    "    score = ridge.score(X_test, y_test)\n",
    "    ridge_scores.append(score)\n",
    "\n",
    "print(ridge_scores)"
   ]
  },
  {
   "cell_type": "markdown",
   "id": "455d8eda19968cfb",
   "metadata": {
    "collapsed": false
   },
   "source": [
    "## Lasso Regression\n",
    "\n",
    "### Feature Selection\n",
    "\n",
    "- Same as Ridge Regression but (alpha*|slope|) instead of (alpha*slope^2)\n",
    "- Lasso can **select important features** of a dataset\n",
    "- Shrinks the coefficients of less important features to 0\n",
    "- Features not shrunk to 0 are selected by the model\n"
   ]
  },
  {
   "cell_type": "code",
   "execution_count": null,
   "id": "1f48a025d1a3eb6c",
   "metadata": {
    "collapsed": false
   },
   "outputs": [],
   "source": [
    "# Import Lasso\n",
    "from sklearn.linear_model import Lasso\n",
    "\n",
    "# Instantiate a lasso regression model\n",
    "lasso = Lasso(alpha=0.3)\n",
    "\n",
    "# Fit the model to the data\n",
    "lasso.fit(X_train, y_train)\n",
    "\n",
    "# Compute and print the coefficients\n",
    "lasso_coef = lasso.coef_\n",
    "print(lasso_coef)\n",
    "\n",
    "sales_columns = sales_df.drop([\"sales\", \"influencer\"], axis=1).columns\n",
    "plt.bar(sales_columns, lasso_coef)\n",
    "plt.show()"
   ]
  }
 ],
 "metadata": {
  "kernelspec": {
   "display_name": "Python 3 (ipykernel)",
   "language": "python",
   "name": "python3"
  },
  "language_info": {
   "codemirror_mode": {
    "name": "ipython",
    "version": 3
   },
   "file_extension": ".py",
   "mimetype": "text/x-python",
   "name": "python",
   "nbconvert_exporter": "python",
   "pygments_lexer": "ipython3",
   "version": "3.10.12"
  }
 },
 "nbformat": 4,
 "nbformat_minor": 5
}
