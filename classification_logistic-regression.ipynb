{
 "cells": [
  {
   "cell_type": "markdown",
   "metadata": {},
   "source": [
    "## Import Dataset\n"
   ]
  },
  {
   "cell_type": "code",
   "execution_count": 53,
   "metadata": {},
   "outputs": [
    {
     "name": "stdout",
     "output_type": "stream",
     "text": [
      "   pregnancies  glucose  diastolic  triceps  insulin   bmi    dpf  age  \\\n",
      "0            6      148         72       35        0  33.6  0.627   50   \n",
      "1            1       85         66       29        0  26.6  0.351   31   \n",
      "2            8      183         64        0        0  23.3  0.672   32   \n",
      "3            1       89         66       23       94  28.1  0.167   21   \n",
      "4            0      137         40       35      168  43.1  2.288   33   \n",
      "\n",
      "   diabetes  \n",
      "0         1  \n",
      "1         0  \n",
      "2         1  \n",
      "3         0  \n",
      "4         1  \n"
     ]
    }
   ],
   "source": [
    "import numpy as np\n",
    "import pandas as pd\n",
    "import matplotlib.pyplot as plt\n",
    "\n",
    "from sklearn.model_selection import train_test_split\n",
    "from sklearn.linear_model import LogisticRegression\n",
    "\n",
    "diabetes_df = pd.read_csv(\"datasets/diabetes_clean.csv\")\n",
    "print(diabetes_df.head())"
   ]
  },
  {
   "cell_type": "markdown",
   "id": "f96c1be7",
   "metadata": {},
   "source": [
    "## Train/ Test Split\n"
   ]
  },
  {
   "cell_type": "code",
   "execution_count": 54,
   "metadata": {},
   "outputs": [],
   "source": [
    "X = diabetes_df.drop(\"diabetes\", axis=1).values\n",
    "y = diabetes_df[\"diabetes\"].values\n",
    "\n",
    "X_train, X_test, y_train, y_test = train_test_split(X, y, test_size=0.2)"
   ]
  },
  {
   "cell_type": "markdown",
   "metadata": {},
   "source": [
    "## Fit the model\n"
   ]
  },
  {
   "cell_type": "code",
   "execution_count": 55,
   "metadata": {},
   "outputs": [
    {
     "name": "stderr",
     "output_type": "stream",
     "text": [
      "/home/youssef/.local/lib/python3.10/site-packages/sklearn/linear_model/_logistic.py:460: ConvergenceWarning: lbfgs failed to converge (status=1):\n",
      "STOP: TOTAL NO. of ITERATIONS REACHED LIMIT.\n",
      "\n",
      "Increase the number of iterations (max_iter) or scale the data as shown in:\n",
      "    https://scikit-learn.org/stable/modules/preprocessing.html\n",
      "Please also refer to the documentation for alternative solver options:\n",
      "    https://scikit-learn.org/stable/modules/linear_model.html#logistic-regression\n",
      "  n_iter_i = _check_optimize_result(\n"
     ]
    },
    {
     "data": {
      "text/html": [
       "<style>#sk-container-id-4 {color: black;}#sk-container-id-4 pre{padding: 0;}#sk-container-id-4 div.sk-toggleable {background-color: white;}#sk-container-id-4 label.sk-toggleable__label {cursor: pointer;display: block;width: 100%;margin-bottom: 0;padding: 0.3em;box-sizing: border-box;text-align: center;}#sk-container-id-4 label.sk-toggleable__label-arrow:before {content: \"▸\";float: left;margin-right: 0.25em;color: #696969;}#sk-container-id-4 label.sk-toggleable__label-arrow:hover:before {color: black;}#sk-container-id-4 div.sk-estimator:hover label.sk-toggleable__label-arrow:before {color: black;}#sk-container-id-4 div.sk-toggleable__content {max-height: 0;max-width: 0;overflow: hidden;text-align: left;background-color: #f0f8ff;}#sk-container-id-4 div.sk-toggleable__content pre {margin: 0.2em;color: black;border-radius: 0.25em;background-color: #f0f8ff;}#sk-container-id-4 input.sk-toggleable__control:checked~div.sk-toggleable__content {max-height: 200px;max-width: 100%;overflow: auto;}#sk-container-id-4 input.sk-toggleable__control:checked~label.sk-toggleable__label-arrow:before {content: \"▾\";}#sk-container-id-4 div.sk-estimator input.sk-toggleable__control:checked~label.sk-toggleable__label {background-color: #d4ebff;}#sk-container-id-4 div.sk-label input.sk-toggleable__control:checked~label.sk-toggleable__label {background-color: #d4ebff;}#sk-container-id-4 input.sk-hidden--visually {border: 0;clip: rect(1px 1px 1px 1px);clip: rect(1px, 1px, 1px, 1px);height: 1px;margin: -1px;overflow: hidden;padding: 0;position: absolute;width: 1px;}#sk-container-id-4 div.sk-estimator {font-family: monospace;background-color: #f0f8ff;border: 1px dotted black;border-radius: 0.25em;box-sizing: border-box;margin-bottom: 0.5em;}#sk-container-id-4 div.sk-estimator:hover {background-color: #d4ebff;}#sk-container-id-4 div.sk-parallel-item::after {content: \"\";width: 100%;border-bottom: 1px solid gray;flex-grow: 1;}#sk-container-id-4 div.sk-label:hover label.sk-toggleable__label {background-color: #d4ebff;}#sk-container-id-4 div.sk-serial::before {content: \"\";position: absolute;border-left: 1px solid gray;box-sizing: border-box;top: 0;bottom: 0;left: 50%;z-index: 0;}#sk-container-id-4 div.sk-serial {display: flex;flex-direction: column;align-items: center;background-color: white;padding-right: 0.2em;padding-left: 0.2em;position: relative;}#sk-container-id-4 div.sk-item {position: relative;z-index: 1;}#sk-container-id-4 div.sk-parallel {display: flex;align-items: stretch;justify-content: center;background-color: white;position: relative;}#sk-container-id-4 div.sk-item::before, #sk-container-id-4 div.sk-parallel-item::before {content: \"\";position: absolute;border-left: 1px solid gray;box-sizing: border-box;top: 0;bottom: 0;left: 50%;z-index: -1;}#sk-container-id-4 div.sk-parallel-item {display: flex;flex-direction: column;z-index: 1;position: relative;background-color: white;}#sk-container-id-4 div.sk-parallel-item:first-child::after {align-self: flex-end;width: 50%;}#sk-container-id-4 div.sk-parallel-item:last-child::after {align-self: flex-start;width: 50%;}#sk-container-id-4 div.sk-parallel-item:only-child::after {width: 0;}#sk-container-id-4 div.sk-dashed-wrapped {border: 1px dashed gray;margin: 0 0.4em 0.5em 0.4em;box-sizing: border-box;padding-bottom: 0.4em;background-color: white;}#sk-container-id-4 div.sk-label label {font-family: monospace;font-weight: bold;display: inline-block;line-height: 1.2em;}#sk-container-id-4 div.sk-label-container {text-align: center;}#sk-container-id-4 div.sk-container {/* jupyter's `normalize.less` sets `[hidden] { display: none; }` but bootstrap.min.css set `[hidden] { display: none !important; }` so we also need the `!important` here to be able to override the default hidden behavior on the sphinx rendered scikit-learn.org. See: https://github.com/scikit-learn/scikit-learn/issues/21755 */display: inline-block !important;position: relative;}#sk-container-id-4 div.sk-text-repr-fallback {display: none;}</style><div id=\"sk-container-id-4\" class=\"sk-top-container\"><div class=\"sk-text-repr-fallback\"><pre>LogisticRegression()</pre><b>In a Jupyter environment, please rerun this cell to show the HTML representation or trust the notebook. <br />On GitHub, the HTML representation is unable to render, please try loading this page with nbviewer.org.</b></div><div class=\"sk-container\" hidden><div class=\"sk-item\"><div class=\"sk-estimator sk-toggleable\"><input class=\"sk-toggleable__control sk-hidden--visually\" id=\"sk-estimator-id-4\" type=\"checkbox\" checked><label for=\"sk-estimator-id-4\" class=\"sk-toggleable__label sk-toggleable__label-arrow\">LogisticRegression</label><div class=\"sk-toggleable__content\"><pre>LogisticRegression()</pre></div></div></div></div></div>"
      ],
      "text/plain": [
       "LogisticRegression()"
      ]
     },
     "execution_count": 55,
     "metadata": {},
     "output_type": "execute_result"
    }
   ],
   "source": [
    "logreg = LogisticRegression()\n",
    "logreg.fit(X_train, y_train)"
   ]
  },
  {
   "cell_type": "markdown",
   "id": "8eac3a1c",
   "metadata": {},
   "source": [
    "## Predict Probilities passing test features\n"
   ]
  },
  {
   "cell_type": "code",
   "execution_count": 56,
   "id": "b74f68cb",
   "metadata": {},
   "outputs": [
    {
     "name": "stdout",
     "output_type": "stream",
     "text": [
      "[0.48632951 0.79555461 0.32840249 0.4001484  0.26806017 0.28430794\n",
      " 0.73563458 0.02407415 0.10260964 0.32031575 0.96084569 0.04489739\n",
      " 0.23739782 0.3548971  0.8300494  0.79654715 0.70237695 0.07386783\n",
      " 0.70350233 0.18260386 0.69531193 0.87083281 0.14054876 0.10505263\n",
      " 0.04777536 0.2959871  0.4293606  0.17571751 0.08559298 0.62250965\n",
      " 0.35048137 0.51323503 0.17316196 0.6136226  0.12272716 0.81232189\n",
      " 0.09407295 0.1196786  0.07387543 0.45192691 0.52955541 0.47726283\n",
      " 0.46694298 0.14686303 0.8880357  0.75054084 0.21507908 0.5562835\n",
      " 0.30746153 0.25611109 0.29056771 0.16375551 0.17314217 0.08076885\n",
      " 0.01670059 0.25011327 0.82154738 0.81073268 0.42101941 0.15730097\n",
      " 0.46302154 0.68919544 0.07755208 0.20773015 0.14162662 0.06670787\n",
      " 0.28738416 0.03310277 0.62100503 0.55044262 0.3246611  0.12717251\n",
      " 0.04675101 0.80582951 0.32815084 0.51130851 0.31770816 0.39273304\n",
      " 0.0185482  0.04348777 0.12426485 0.35128846 0.0785693  0.16469725\n",
      " 0.59927168 0.24921421 0.20409618 0.12539234 0.44589717 0.57047366\n",
      " 0.20945756 0.05744549 0.79335004 0.74625784 0.21649448 0.08290604\n",
      " 0.26001266 0.62410737 0.13226946 0.07292974 0.34181427 0.35318653\n",
      " 0.2512797  0.15140346 0.05170221 0.8260564  0.65946143 0.36203204\n",
      " 0.16913724 0.14885389 0.01002006 0.14979573 0.1862775  0.2576576\n",
      " 0.10666235 0.3308484  0.14623398 0.32903303 0.62694272 0.71320638\n",
      " 0.70569194 0.92630437 0.09289671 0.36292862 0.5552504  0.49718015\n",
      " 0.1968334  0.27569245 0.112031   0.03596612 0.72519075 0.73637475\n",
      " 0.4740851  0.2707539  0.5450169  0.4550321  0.08797003 0.90250611\n",
      " 0.13542122 0.47236132 0.06377853 0.23631795 0.76073779 0.22792318\n",
      " 0.15094976 0.04503935 0.19452507 0.07129716 0.2375944  0.07338856\n",
      " 0.17317529 0.6130658  0.24365267 0.64339915]\n"
     ]
    }
   ],
   "source": [
    "y_pred_prob = logreg.predict_proba(X_test)[:, 1]\n",
    "print(y_pred_prob)"
   ]
  },
  {
   "cell_type": "markdown",
   "metadata": {},
   "source": [
    "## Make Predictions\n",
    "\n",
    "You can see the predictions made by this model by calling the `predict` function.\n"
   ]
  },
  {
   "cell_type": "code",
   "execution_count": 57,
   "metadata": {},
   "outputs": [
    {
     "name": "stdout",
     "output_type": "stream",
     "text": [
      "[0 1 0 0 0 0 1 0 0 0 1 0 0 0 1 1 1 0 1 0 1 1 0 0 0 0 0 0 0 1 0 1 0 1 0 1 0\n",
      " 0 0 0 1 0 0 0 1 1 0 1 0 0 0 0 0 0 0 0 1 1 0 0 0 1 0 0 0 0 0 0 1 1 0 0 0 1\n",
      " 0 1 0 0 0 0 0 0 0 0 1 0 0 0 0 1 0 0 1 1 0 0 0 1 0 0 0 0 0 0 0 1 1 0 0 0 0\n",
      " 0 0 0 0 0 0 0 1 1 1 1 0 0 1 0 0 0 0 0 1 1 0 0 1 0 0 1 0 0 0 0 1 0 0 0 0 0\n",
      " 0 0 0 1 0 1]\n",
      "[[0.48632951 0.        ]\n",
      " [0.79555461 1.        ]\n",
      " [0.32840249 0.        ]\n",
      " [0.4001484  0.        ]\n",
      " [0.26806017 0.        ]\n",
      " [0.28430794 0.        ]\n",
      " [0.73563458 1.        ]\n",
      " [0.02407415 0.        ]\n",
      " [0.10260964 0.        ]\n",
      " [0.32031575 0.        ]\n",
      " [0.96084569 1.        ]\n",
      " [0.04489739 0.        ]\n",
      " [0.23739782 0.        ]\n",
      " [0.3548971  0.        ]\n",
      " [0.8300494  1.        ]\n",
      " [0.79654715 1.        ]\n",
      " [0.70237695 1.        ]\n",
      " [0.07386783 0.        ]\n",
      " [0.70350233 1.        ]\n",
      " [0.18260386 0.        ]\n",
      " [0.69531193 1.        ]\n",
      " [0.87083281 1.        ]\n",
      " [0.14054876 0.        ]\n",
      " [0.10505263 0.        ]\n",
      " [0.04777536 0.        ]\n",
      " [0.2959871  0.        ]\n",
      " [0.4293606  0.        ]\n",
      " [0.17571751 0.        ]\n",
      " [0.08559298 0.        ]\n",
      " [0.62250965 1.        ]\n",
      " [0.35048137 0.        ]\n",
      " [0.51323503 1.        ]\n",
      " [0.17316196 0.        ]\n",
      " [0.6136226  1.        ]\n",
      " [0.12272716 0.        ]\n",
      " [0.81232189 1.        ]\n",
      " [0.09407295 0.        ]\n",
      " [0.1196786  0.        ]\n",
      " [0.07387543 0.        ]\n",
      " [0.45192691 0.        ]\n",
      " [0.52955541 1.        ]\n",
      " [0.47726283 0.        ]\n",
      " [0.46694298 0.        ]\n",
      " [0.14686303 0.        ]\n",
      " [0.8880357  1.        ]\n",
      " [0.75054084 1.        ]\n",
      " [0.21507908 0.        ]\n",
      " [0.5562835  1.        ]\n",
      " [0.30746153 0.        ]\n",
      " [0.25611109 0.        ]\n",
      " [0.29056771 0.        ]\n",
      " [0.16375551 0.        ]\n",
      " [0.17314217 0.        ]\n",
      " [0.08076885 0.        ]\n",
      " [0.01670059 0.        ]\n",
      " [0.25011327 0.        ]\n",
      " [0.82154738 1.        ]\n",
      " [0.81073268 1.        ]\n",
      " [0.42101941 0.        ]\n",
      " [0.15730097 0.        ]\n",
      " [0.46302154 0.        ]\n",
      " [0.68919544 1.        ]\n",
      " [0.07755208 0.        ]\n",
      " [0.20773015 0.        ]\n",
      " [0.14162662 0.        ]\n",
      " [0.06670787 0.        ]\n",
      " [0.28738416 0.        ]\n",
      " [0.03310277 0.        ]\n",
      " [0.62100503 1.        ]\n",
      " [0.55044262 1.        ]\n",
      " [0.3246611  0.        ]\n",
      " [0.12717251 0.        ]\n",
      " [0.04675101 0.        ]\n",
      " [0.80582951 1.        ]\n",
      " [0.32815084 0.        ]\n",
      " [0.51130851 1.        ]\n",
      " [0.31770816 0.        ]\n",
      " [0.39273304 0.        ]\n",
      " [0.0185482  0.        ]\n",
      " [0.04348777 0.        ]\n",
      " [0.12426485 0.        ]\n",
      " [0.35128846 0.        ]\n",
      " [0.0785693  0.        ]\n",
      " [0.16469725 0.        ]\n",
      " [0.59927168 1.        ]\n",
      " [0.24921421 0.        ]\n",
      " [0.20409618 0.        ]\n",
      " [0.12539234 0.        ]\n",
      " [0.44589717 0.        ]\n",
      " [0.57047366 1.        ]\n",
      " [0.20945756 0.        ]\n",
      " [0.05744549 0.        ]\n",
      " [0.79335004 1.        ]\n",
      " [0.74625784 1.        ]\n",
      " [0.21649448 0.        ]\n",
      " [0.08290604 0.        ]\n",
      " [0.26001266 0.        ]\n",
      " [0.62410737 1.        ]\n",
      " [0.13226946 0.        ]\n",
      " [0.07292974 0.        ]\n",
      " [0.34181427 0.        ]\n",
      " [0.35318653 0.        ]\n",
      " [0.2512797  0.        ]\n",
      " [0.15140346 0.        ]\n",
      " [0.05170221 0.        ]\n",
      " [0.8260564  1.        ]\n",
      " [0.65946143 1.        ]\n",
      " [0.36203204 0.        ]\n",
      " [0.16913724 0.        ]\n",
      " [0.14885389 0.        ]\n",
      " [0.01002006 0.        ]\n",
      " [0.14979573 0.        ]\n",
      " [0.1862775  0.        ]\n",
      " [0.2576576  0.        ]\n",
      " [0.10666235 0.        ]\n",
      " [0.3308484  0.        ]\n",
      " [0.14623398 0.        ]\n",
      " [0.32903303 0.        ]\n",
      " [0.62694272 1.        ]\n",
      " [0.71320638 1.        ]\n",
      " [0.70569194 1.        ]\n",
      " [0.92630437 1.        ]\n",
      " [0.09289671 0.        ]\n",
      " [0.36292862 0.        ]\n",
      " [0.5552504  1.        ]\n",
      " [0.49718015 0.        ]\n",
      " [0.1968334  0.        ]\n",
      " [0.27569245 0.        ]\n",
      " [0.112031   0.        ]\n",
      " [0.03596612 0.        ]\n",
      " [0.72519075 1.        ]\n",
      " [0.73637475 1.        ]\n",
      " [0.4740851  0.        ]\n",
      " [0.2707539  0.        ]\n",
      " [0.5450169  1.        ]\n",
      " [0.4550321  0.        ]\n",
      " [0.08797003 0.        ]\n",
      " [0.90250611 1.        ]\n",
      " [0.13542122 0.        ]\n",
      " [0.47236132 0.        ]\n",
      " [0.06377853 0.        ]\n",
      " [0.23631795 0.        ]\n",
      " [0.76073779 1.        ]\n",
      " [0.22792318 0.        ]\n",
      " [0.15094976 0.        ]\n",
      " [0.04503935 0.        ]\n",
      " [0.19452507 0.        ]\n",
      " [0.07129716 0.        ]\n",
      " [0.2375944  0.        ]\n",
      " [0.07338856 0.        ]\n",
      " [0.17317529 0.        ]\n",
      " [0.6130658  1.        ]\n",
      " [0.24365267 0.        ]\n",
      " [0.64339915 1.        ]]\n"
     ]
    }
   ],
   "source": [
    "y_pred = logreg.predict(X_test)\n",
    "print(y_pred)\n",
    "\n",
    "combined = np.column_stack((y_pred_prob, y_pred))\n",
    "print(combined)"
   ]
  },
  {
   "cell_type": "markdown",
   "metadata": {},
   "source": [
    "## Calculate accuracy\n",
    "\n",
    "You can calculate this accuracy of this model by calling the `score` function.\n"
   ]
  },
  {
   "cell_type": "code",
   "execution_count": 58,
   "metadata": {},
   "outputs": [
    {
     "name": "stdout",
     "output_type": "stream",
     "text": [
      "Accuracy on training set: 0.7532467532467533\n"
     ]
    }
   ],
   "source": [
    "print(\"Accuracy on training set:\", logreg.score(X_test, y_test))"
   ]
  },
  {
   "cell_type": "markdown",
   "id": "ff14c0eb",
   "metadata": {},
   "source": [
    "## ROC (receiver operating characteristic)"
   ]
  },
  {
   "cell_type": "code",
   "execution_count": 59,
   "id": "16b8fb22",
   "metadata": {},
   "outputs": [
    {
     "data": {
      "image/png": "[encoded data removed]",
      "text/plain": [
       "<Figure size 640x480 with 1 Axes>"
      ]
     },
     "metadata": {},
     "output_type": "display_data"
    }
   ],
   "source": [
    "# Import roc_curve\n",
    "from sklearn.metrics import roc_curve\n",
    "\n",
    "# Generate ROC curve values: fpr, tpr, thresholds\n",
    "fpr, tpr, thresholds = roc_curve(y_test, y_pred_prob)\n",
    "\n",
    "plt.plot([0, 1], [0, 1], 'k--')\n",
    "\n",
    "# Plot tpr against fpr\n",
    "plt.plot(fpr, tpr)\n",
    "plt.xlabel('False Positive Rate')\n",
    "plt.ylabel('True Positive Rate')\n",
    "plt.title('ROC Curve for Diabetes Prediction')\n",
    "plt.show()"
   ]
  },
  {
   "cell_type": "markdown",
   "id": "be25b627",
   "metadata": {},
   "source": [
    "## AUC (area under the curve)"
   ]
  },
  {
   "cell_type": "code",
   "execution_count": 61,
   "id": "adaecff8",
   "metadata": {},
   "outputs": [
    {
     "name": "stdout",
     "output_type": "stream",
     "text": [
      "0.8468319559228649\n",
      "[[86 13]\n",
      " [25 30]]\n",
      "              precision    recall  f1-score   support\n",
      "\n",
      "           0       0.77      0.87      0.82        99\n",
      "           1       0.70      0.55      0.61        55\n",
      "\n",
      "    accuracy                           0.75       154\n",
      "   macro avg       0.74      0.71      0.72       154\n",
      "weighted avg       0.75      0.75      0.75       154\n",
      "\n"
     ]
    }
   ],
   "source": [
    "# Import roc_auc_score\n",
    "from sklearn.metrics import roc_auc_score, confusion_matrix, classification_report\n",
    "\n",
    "# Calculate roc_auc_score\n",
    "print(roc_auc_score(y_test, y_pred_prob))\n",
    "\n",
    "# Calculate the confusion matrix\n",
    "print(confusion_matrix(y_test, y_pred))\n",
    "\n",
    "# Calculate the classification report\n",
    "print(classification_report(y_test, y_pred))"
   ]
  }
 ],
 "metadata": {
  "kernelspec": {
   "display_name": "Python 3",
   "language": "python",
   "name": "python3"
  },
  "language_info": {
   "codemirror_mode": {
    "name": "ipython",
    "version": 3
   },
   "file_extension": ".py",
   "mimetype": "text/x-python",
   "name": "python",
   "nbconvert_exporter": "python",
   "pygments_lexer": "ipython3",
   "version": "3.10.12"
  }
 },
 "nbformat": 4,
 "nbformat_minor": 5
}
