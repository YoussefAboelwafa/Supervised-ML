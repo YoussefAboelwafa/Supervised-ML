{
 "cells": [
  {
   "cell_type": "code",
   "execution_count": 1,
   "metadata": {},
   "outputs": [
    {
     "name": "stdout",
     "output_type": "stream",
     "text": [
      "   width  height   price\n",
      "0     20      30  250000\n",
      "1     25      35  300000\n",
      "2     30      40  350000\n",
      "3     35      45  400000\n",
      "4     40      50  450000\n",
      "--------------------------------\n",
      "   width  height   price  area\n",
      "0     20      30  250000   600\n",
      "1     25      35  300000   875\n",
      "2     30      40  350000  1200\n",
      "3     35      45  400000  1575\n",
      "4     40      50  450000  2000\n",
      "--------------------------------\n",
      "    price  area\n",
      "0  250000   600\n",
      "1  300000   875\n",
      "2  350000  1200\n",
      "3  400000  1575\n",
      "4  450000  2000\n",
      "--------------------------------\n"
     ]
    }
   ],
   "source": [
    "import pandas as pd\n",
    "\n",
    "df = pd.read_csv(\"datasets/data.csv\")\n",
    "\n",
    "print(df)\n",
    "print(\"--------------------------------\")\n",
    "\n",
    "\n",
    "# Combine two columns in one\n",
    "df[\"area\"] = df[\"width\"] * df[\"height\"]\n",
    "print(df)\n",
    "print(\"--------------------------------\")\n",
    "\n",
    "\n",
    "# Drop columns\n",
    "df.drop(columns=[\"width\", \"height\"], inplace=True)\n",
    "print(df)\n",
    "print(\"--------------------------------\")"
   ]
  }
 ],
 "metadata": {
  "kernelspec": {
   "display_name": "Python 3",
   "language": "python",
   "name": "python3"
  },
  "language_info": {
   "codemirror_mode": {
    "name": "ipython",
    "version": 3
   },
   "file_extension": ".py",
   "mimetype": "text/x-python",
   "name": "python",
   "nbconvert_exporter": "python",
   "pygments_lexer": "ipython3",
   "version": "3.10.12"
  },
  "orig_nbformat": 4
 },
 "nbformat": 4,
 "nbformat_minor": 2
}
