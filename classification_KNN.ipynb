{
 "cells": [
  {
   "cell_type": "markdown",
   "id": "c73b4adcbbe065a",
   "metadata": {
    "collapsed": false
   },
   "source": [
    "# Import Libraries & Datasets\n"
   ]
  },
  {
   "cell_type": "code",
   "execution_count": null,
   "id": "d62680f31d7d82a1",
   "metadata": {
    "ExecuteTime": {
     "end_time": "2023-09-14T20:38:29.416279500Z",
     "start_time": "2023-09-14T20:38:21.756700600Z"
    },
    "collapsed": false
   },
   "outputs": [],
   "source": [
    "import pandas as pd\n",
    "import numpy as np\n",
    "import matplotlib.pyplot as plt\n",
    "\n",
    "from sklearn.model_selection import train_test_split\n",
    "from sklearn.neighbors import KNeighborsClassifier\n",
    "\n",
    "\n",
    "churn_df = pd.read_csv(\"datasets/telecom_churn_clean.csv\")\n",
    "print(churn_df.head())"
   ]
  },
  {
   "cell_type": "code",
   "execution_count": null,
   "id": "c0b23cef8ee2eb1c",
   "metadata": {
    "ExecuteTime": {
     "end_time": "2023-09-14T20:38:29.523083500Z",
     "start_time": "2023-09-14T20:38:29.418273200Z"
    },
    "collapsed": false
   },
   "outputs": [],
   "source": [
    "# Create arrays for the features and the target variable\n",
    "y = churn_df[\"churn\"].values\n",
    "X = churn_df[[\"account_length\", \"customer_service_calls\"]].values\n",
    "\n",
    "# Create a KNN classifier with 6 neighbors\n",
    "knn = KNeighborsClassifier(n_neighbors=6)\n",
    "\n",
    "# Fit the classifier to the data\n",
    "knn.fit(X, y)\n",
    "\n",
    "X_new = np.array([[30.0, 17.5], [107.0, 24.1], [213.0, 10.9]])\n",
    "\n",
    "# Predict the labels for the training data X\n",
    "y_pred = knn.predict(X_new)\n",
    "print(f\"Prediction: {y_pred}\")"
   ]
  },
  {
   "cell_type": "markdown",
   "id": "ab047f374ad093f8",
   "metadata": {
    "collapsed": false
   },
   "source": [
    "# Train/Test split\n"
   ]
  },
  {
   "cell_type": "code",
   "execution_count": null,
   "id": "7aa05b27f031cbd",
   "metadata": {
    "ExecuteTime": {
     "end_time": "2023-09-14T20:38:29.684585600Z",
     "start_time": "2023-09-14T20:38:29.451240400Z"
    },
    "collapsed": false
   },
   "outputs": [],
   "source": [
    "X = churn_df.drop(\"churn\", axis=1).values\n",
    "y = churn_df[\"churn\"].values\n",
    "\n",
    "# Split into training and test sets\n",
    "# Stratification is important for classification problems\n",
    "\n",
    "X_train, X_test, y_train, y_test = train_test_split(\n",
    "    X, y, test_size=0.2, stratify=y\n",
    ")\n",
    "\n",
    "knn = KNeighborsClassifier(n_neighbors=5)\n",
    "\n",
    "# Fit the classifier to the training data\n",
    "knn.fit(X_train, y_train)\n",
    "\n",
    "# Print the accuracy\n",
    "print(knn.score(X_test, y_test))"
   ]
  },
  {
   "cell_type": "markdown",
   "id": "6b9c89a819653256",
   "metadata": {
    "collapsed": false
   },
   "source": [
    "# Overfitting & Underfitting\n"
   ]
  },
  {
   "cell_type": "code",
   "execution_count": null,
   "id": "a64651a6afcba12",
   "metadata": {
    "ExecuteTime": {
     "end_time": "2023-09-14T20:39:23.293533800Z",
     "start_time": "2023-09-14T20:39:22.851322900Z"
    },
    "collapsed": false
   },
   "outputs": [],
   "source": [
    "# Create neighbors\n",
    "neighbors = np.arange(1, 13)\n",
    "train_accuracies = {}\n",
    "test_accuracies = {}\n",
    "\n",
    "maximum_accuracy = 0\n",
    "best_k = 0\n",
    "\n",
    "for neighbor in neighbors:\n",
    "    # Set up a KNN Classifier\n",
    "    knn = KNeighborsClassifier(n_neighbors=neighbor)\n",
    "\n",
    "    # Fit the model\n",
    "    knn.fit(X_train, y_train)\n",
    "\n",
    "    # Compute accuracy\n",
    "    train_accuracies[neighbor] = knn.score(X_train, y_train)\n",
    "    test_accuracies[neighbor] = knn.score(X_test, y_test)\n",
    "\n",
    "    if test_accuracies[neighbor] > maximum_accuracy:\n",
    "        maximum_accuracy = test_accuracies[neighbor]\n",
    "        best_k = neighbor\n",
    "\n",
    "print(f\"Best k = {best_k}\")"
   ]
  },
  {
   "cell_type": "markdown",
   "id": "cd4817a16dafcf05",
   "metadata": {
    "collapsed": false
   },
   "source": [
    "# Visualizing model complexity"
   ]
  },
  {
   "cell_type": "code",
   "execution_count": null,
   "id": "d83aacf51800a874",
   "metadata": {
    "ExecuteTime": {
     "end_time": "2023-09-14T20:38:30.440378Z",
     "start_time": "2023-09-14T20:38:30.129110700Z"
    },
    "collapsed": false
   },
   "outputs": [],
   "source": [
    "# Add a title\n",
    "plt.title(\"KNN: Varying Number of Neighbors\")\n",
    "\n",
    "# Plot training accuracies\n",
    "plt.plot(neighbors, train_accuracies.values(), label=\"Training Accuracy\")\n",
    "\n",
    "# Plot test accuracies\n",
    "plt.plot(neighbors, test_accuracies.values(), label=\"Testing Accuracy\")\n",
    "\n",
    "plt.legend()\n",
    "plt.xlabel(\"Number of Neighbors\")\n",
    "plt.ylabel(\"Accuracy\")\n",
    "plt.axvline(x=best_k, color=\"green\", linestyle=\"--\")\n",
    "plt.xticks(neighbors)\n",
    "\n",
    "# Display the plot\n",
    "plt.show()"
   ]
  },
  {
   "cell_type": "markdown",
   "id": "69c7850d",
   "metadata": {},
   "source": [
    "## Performance Evaluation using `Confusion Matrix`"
   ]
  },
  {
   "cell_type": "code",
   "execution_count": null,
   "id": "f8e648d0",
   "metadata": {
    "ExecuteTime": {
     "end_time": "2023-09-14T20:38:30.582031300Z",
     "start_time": "2023-09-14T20:38:30.436388700Z"
    }
   },
   "outputs": [],
   "source": [
    "# Import confusion matrix\n",
    "from sklearn.metrics import confusion_matrix, classification_report\n",
    "\n",
    "knn = KNeighborsClassifier(n_neighbors=6)\n",
    "\n",
    "# Fit the model to the training data\n",
    "knn.fit(X_train, y_train)\n",
    "\n",
    "# Predict the labels of the test data: y_pred\n",
    "y_pred = knn.predict(X_test)\n",
    "\n",
    "# Generate the confusion matrix and classification report\n",
    "print(confusion_matrix(y_test, y_pred))\n",
    "print(classification_report(y_test, y_pred))"
   ]
  }
 ],
 "metadata": {
  "kernelspec": {
   "display_name": "Python 3",
   "language": "python",
   "name": "python3"
  },
  "language_info": {
   "codemirror_mode": {
    "name": "ipython",
    "version": 3
   },
   "file_extension": ".py",
   "mimetype": "text/x-python",
   "name": "python",
   "nbconvert_exporter": "python",
   "pygments_lexer": "ipython3",
   "version": "3.11.0"
  }
 },
 "nbformat": 4,
 "nbformat_minor": 5
}
