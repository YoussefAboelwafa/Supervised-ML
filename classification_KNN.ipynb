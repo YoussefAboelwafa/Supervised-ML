{
 "cells": [
  {
   "cell_type": "markdown",
   "id": "c73b4adcbbe065a",
   "metadata": {
    "collapsed": false
   },
   "source": [
    "# Import Libraries & Datasets\n"
   ]
  },
  {
   "cell_type": "markdown",
   "id": "b8cc0bcc8bb6711b",
   "metadata": {
    "collapsed": false
   },
   "source": [
    "## KNN Classification model\n"
   ]
  },
  {
   "cell_type": "code",
   "execution_count": null,
   "id": "d62680f31d7d82a1",
   "metadata": {
    "ExecuteTime": {
     "end_time": "2023-09-12T11:24:12.576671373Z",
     "start_time": "2023-09-12T11:24:11.756157432Z"
    },
    "collapsed": false
   },
   "outputs": [],
   "source": [
    "# Import KNeighborsClassifier (KNN)\n",
    "from sklearn.neighbors import KNeighborsClassifier\n",
    "\n",
    "import pandas as pd\n",
    "import numpy as np\n",
    "import matplotlib.pyplot as plt\n",
    "\n",
    "\n",
    "churn_df = pd.read_csv(\"datasets/telecom_churn_clean.csv\")\n",
    "print(churn_df.head())"
   ]
  },
  {
   "cell_type": "code",
   "execution_count": null,
   "id": "c0b23cef8ee2eb1c",
   "metadata": {
    "ExecuteTime": {
     "end_time": "2023-09-12T11:24:12.587427035Z",
     "start_time": "2023-09-12T11:24:12.580512054Z"
    },
    "collapsed": false
   },
   "outputs": [],
   "source": [
    "# Create arrays for the features and the target variable\n",
    "y = churn_df[\"churn\"].values\n",
    "X = churn_df[[\"account_length\", \"customer_service_calls\"]].values\n",
    "\n",
    "# Create a KNN classifier with 6 neighbors\n",
    "knn = KNeighborsClassifier(n_neighbors=6)\n",
    "\n",
    "# Fit the classifier to the data\n",
    "knn.fit(X, y)\n",
    "\n",
    "X_new = np.array([[30.0, 17.5], [107.0, 24.1], [213.0, 10.9]])\n",
    "\n",
    "# Predict the labels for the training data X\n",
    "y_pred = knn.predict(X_new)\n",
    "print(f\"Prediction: {y_pred}\")"
   ]
  },
  {
   "cell_type": "markdown",
   "id": "ab047f374ad093f8",
   "metadata": {
    "collapsed": false
   },
   "source": [
    "# Train/Test split\n"
   ]
  },
  {
   "cell_type": "code",
   "execution_count": null,
   "id": "7aa05b27f031cbd",
   "metadata": {
    "ExecuteTime": {
     "end_time": "2023-09-12T11:24:12.638079657Z",
     "start_time": "2023-09-12T11:24:12.588647667Z"
    },
    "collapsed": false
   },
   "outputs": [],
   "source": [
    "from sklearn.model_selection import train_test_split\n",
    "\n",
    "X = churn_df.drop(\"churn\", axis=1).values\n",
    "y = churn_df[\"churn\"].values\n",
    "\n",
    "# Split into training and test sets\n",
    "X_train, X_test, y_train, y_test = train_test_split(\n",
    "    X, y, test_size=0.2, random_state=42, stratify=y\n",
    ")\n",
    "knn = KNeighborsClassifier(n_neighbors=5)\n",
    "\n",
    "# Fit the classifier to the training data\n",
    "knn.fit(X_train, y_train)\n",
    "\n",
    "# Print the accuracy\n",
    "print(knn.score(X_test, y_test))"
   ]
  },
  {
   "cell_type": "markdown",
   "id": "6b9c89a819653256",
   "metadata": {
    "collapsed": false
   },
   "source": [
    "# Overfitting & Underfitting\n"
   ]
  },
  {
   "cell_type": "code",
   "execution_count": null,
   "id": "a64651a6afcba12",
   "metadata": {
    "ExecuteTime": {
     "end_time": "2023-09-12T11:24:12.859256710Z",
     "start_time": "2023-09-12T11:24:12.623081163Z"
    },
    "collapsed": false
   },
   "outputs": [],
   "source": [
    "# Create neighbors\n",
    "neighbors = np.arange(1, 13)\n",
    "train_accuracies = {}\n",
    "test_accuracies = {}\n",
    "\n",
    "for neighbor in neighbors:\n",
    "    # Set up a KNN Classifier\n",
    "    knn = KNeighborsClassifier(n_neighbors=neighbor)\n",
    "\n",
    "    # Fit the model\n",
    "    knn.fit(X_train, y_train)\n",
    "\n",
    "    # Compute accuracy\n",
    "    train_accuracies[neighbor] = knn.score(X_train, y_train)\n",
    "    test_accuracies[neighbor] = knn.score(X_test, y_test)\n",
    "\n",
    "print(neighbors, \"\\n\", train_accuracies, \"\\n\", test_accuracies)"
   ]
  },
  {
   "cell_type": "markdown",
   "id": "cd4817a16dafcf05",
   "metadata": {
    "collapsed": false
   },
   "source": [
    "# Visualizing model complexity\n"
   ]
  },
  {
   "cell_type": "code",
   "execution_count": null,
   "id": "d83aacf51800a874",
   "metadata": {
    "ExecuteTime": {
     "end_time": "2023-09-12T11:24:13.034946992Z",
     "start_time": "2023-09-12T11:24:12.856332725Z"
    },
    "collapsed": false
   },
   "outputs": [],
   "source": [
    "# Add a title\n",
    "plt.title(\"KNN: Varying Number of Neighbors\")\n",
    "\n",
    "# Plot training accuracies\n",
    "plt.plot(neighbors, train_accuracies.values(), label=\"Training Accuracy\")\n",
    "\n",
    "# Plot test accuracies\n",
    "plt.plot(neighbors, test_accuracies.values(), label=\"Testing Accuracy\")\n",
    "\n",
    "plt.legend()\n",
    "plt.xlabel(\"Number of Neighbors\")\n",
    "plt.ylabel(\"Accuracy\")\n",
    "\n",
    "# Display the plot\n",
    "plt.show()"
   ]
  }
 ],
 "metadata": {
  "kernelspec": {
   "display_name": "Python 3",
   "language": "python",
   "name": "python3"
  },
  "language_info": {
   "codemirror_mode": {
    "name": "ipython",
    "version": 2
   },
   "file_extension": ".py",
   "mimetype": "text/x-python",
   "name": "python",
   "nbconvert_exporter": "python",
   "pygments_lexer": "ipython2",
   "version": "2.7.6"
  }
 },
 "nbformat": 4,
 "nbformat_minor": 5
}
